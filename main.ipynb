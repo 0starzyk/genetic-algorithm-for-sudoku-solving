{
  "nbformat": 4,
  "nbformat_minor": 0,
  "metadata": {
    "colab": {
      "provenance": []
    },
    "kernelspec": {
      "name": "python3",
      "display_name": "Python 3"
    },
    "language_info": {
      "name": "python"
    }
  },
  "cells": [
    {
      "cell_type": "code",
      "source": [
        "import numpy as np\n",
        "import random"
      ],
      "metadata": {
        "id": "ClaC_2KJ6toM"
      },
      "execution_count": 27,
      "outputs": []
    },
    {
      "cell_type": "code",
      "source": [
        "def print_sudoku_string(sudoku_string: str):\n",
        "  for i in range(len(sudoku_string)):\n",
        "    if i % 9 == 0:\n",
        "      print(\" \".join(sudoku_string[i:i+9]))"
      ],
      "metadata": {
        "id": "MnRJDIKeuNuF"
      },
      "execution_count": 28,
      "outputs": []
    },
    {
      "cell_type": "code",
      "source": [
        "sudoku_string = \"000260701680070090190004500820100040004602900050003028009300074040050036703018000\"\n",
        "\n",
        "print_sudoku_string(sudoku_string)"
      ],
      "metadata": {
        "colab": {
          "base_uri": "https://localhost:8080/"
        },
        "id": "5LHra_eM1j6F",
        "outputId": "fe65e191-d1c1-4d98-b199-ccade95baaa1"
      },
      "execution_count": 29,
      "outputs": [
        {
          "output_type": "stream",
          "name": "stdout",
          "text": [
            "0 0 0 2 6 0 7 0 1\n",
            "6 8 0 0 7 0 0 9 0\n",
            "1 9 0 0 0 4 5 0 0\n",
            "8 2 0 1 0 0 0 4 0\n",
            "0 0 4 6 0 2 9 0 0\n",
            "0 5 0 0 0 3 0 2 8\n",
            "0 0 9 3 0 0 0 7 4\n",
            "0 4 0 0 5 0 0 3 6\n",
            "7 0 3 0 1 8 0 0 0\n"
          ]
        }
      ]
    },
    {
      "cell_type": "code",
      "execution_count": 30,
      "metadata": {
        "id": "rivy7Y7x3wcy"
      },
      "outputs": [],
      "source": [
        "class SudokuSolution:\n",
        "  def __init__(self):\n",
        "    self.filled_sudoku = np.copy(SudokuSolution.unsolved_sudoku)\n",
        "    self.cost = self.calculate_cost()\n",
        "    for square in self.filled_sudoku:\n",
        "      SudokuSolution.random_fill_one_square(square)\n",
        "\n",
        "  def crossover(self, other):\n",
        "    child = SudokuSolution()\n",
        "    child.filled_sudoku = np.array([random.choice(list(zip(self.filled_sudoku, other.filled_sudoku))[i]) for i in range(9)])\n",
        "    child.mutate(0.2)\n",
        "    return child\n",
        "\n",
        "  def mutate(self, probability):\n",
        "    for square_index in range(9):\n",
        "      if probability > random.random():\n",
        "        square = SudokuSolution.unsolved_sudoku[square_index]\n",
        "        unfilled_box_indices = np.where(square == 0)[0]\n",
        "        first_random_position, second_random_position = random.choice(unfilled_box_indices), random.choice(unfilled_box_indices)\n",
        "        self.filled_sudoku[square_index, first_random_position], self.filled_sudoku[square_index, second_random_position] = self.filled_sudoku[square_index, second_random_position], self.filled_sudoku[square_index, first_random_position]\n",
        "\n",
        "  def calculate_cost(self):\n",
        "    filled_sudoku_array_row_form = self.get_row_form_sudoku_array(self.filled_sudoku)\n",
        "    cost_value = 0\n",
        "    for row in filled_sudoku_array_row_form:\n",
        "      cost_value += len(np.unique(row))\n",
        "    for row in filled_sudoku_array_row_form.T:\n",
        "      cost_value += len(np.unique(row))\n",
        "    return cost_value\n",
        "\n",
        "  def print_filled_sudoku(self):\n",
        "    filled_sudoku_array_row_form = SudokuSolution.get_row_form_sudoku_array(self.filled_sudoku)\n",
        "    for row in filled_sudoku_array_row_form:\n",
        "      print(\" \".join(map(str, row)))\n",
        "\n",
        "  @staticmethod\n",
        "  def get_row_form_sudoku_array(square_form_sudoku_array):\n",
        "    result_array = np.empty((0, 9), dtype=np.int64)\n",
        "    for i in (0, 3, 6):\n",
        "      for j in (0, 3, 6):\n",
        "        row = np.concatenate((square_form_sudoku_array[i, j:j + 3], square_form_sudoku_array[i + 1, j:j + 3], square_form_sudoku_array[i + 2, j:j + 3]))\n",
        "        result_array = np.append(result_array, [row], axis=0)\n",
        "    return result_array\n",
        "\n",
        "  @staticmethod\n",
        "  def print_unsolved_sudoku():\n",
        "    filled_sudoku_array_row_form = SudokuSolution.get_row_form_sudoku_array(SudokuSolution.unsolved_sudoku)\n",
        "    for row in filled_sudoku_array_row_form:\n",
        "      print(\" \".join(map(str, row)))\n",
        "\n",
        "  @staticmethod\n",
        "  def init_unsolved_sudoku(sudoku_string: str):\n",
        "    SudokuSolution.unsolved_sudoku = SudokuSolution.create_array_for_sudoku(sudoku_string)\n",
        "\n",
        "  @staticmethod\n",
        "  def create_array_for_one_square(string: str, position: int):\n",
        "    return [int(string[position + (i % 3) + (i // 3) * 9]) for i in range(9)]\n",
        "\n",
        "  @staticmethod\n",
        "  def create_array_for_sudoku(string: str):\n",
        "    return np.array([SudokuSolution.create_array_for_one_square(string, (i % 3) * 3 + (i // 3) * 27) for i in range(9)])\n",
        "\n",
        "  @staticmethod\n",
        "  def random_fill_one_square(square):\n",
        "    missing_digits = [digit for digit in range(1, 10) if digit not in square]\n",
        "    if len(missing_digits) == 0: return\n",
        "    random.shuffle(missing_digits)\n",
        "    j = 0\n",
        "    for i in range(9):\n",
        "      if square[i] == 0:\n",
        "        square[i] = missing_digits[j]\n",
        "        j += 1\n",
        "\n",
        "  unsolved_sudoku = np.array([[0 for _ in range(9)] for _ in range(9)])"
      ]
    },
    {
      "cell_type": "code",
      "source": [
        "best_achievable_cost = 162"
      ],
      "metadata": {
        "id": "TyFJuYDsA01-"
      },
      "execution_count": 31,
      "outputs": []
    },
    {
      "cell_type": "code",
      "source": [
        "def sudoku_solve(sudoku_string : str, population_size : int = 50, epochs : int = 1000) -> SudokuSolution:\n",
        "  SudokuSolution.init_unsolved_sudoku(sudoku_string)\n",
        "  population = [SudokuSolution() for _ in range(population_size)]\n",
        "\n",
        "  population.sort(key=lambda member: member.calculate_cost(), reverse=True)\n",
        "\n",
        "  for i in range(epochs):\n",
        "    if population[0].calculate_cost() == best_achievable_cost:\n",
        "      break\n",
        "\n",
        "    population = population[0:population_size // 2]\n",
        "\n",
        "    for member in population[0:population_size // 2]:\n",
        "      population.append(member.crossover(random.choice(population)))\n",
        "\n",
        "    population.sort(key=lambda member: member.calculate_cost(), reverse=True)\n",
        "  return population[0]"
      ],
      "metadata": {
        "id": "uc4Loh3E3o-4"
      },
      "execution_count": 32,
      "outputs": []
    },
    {
      "cell_type": "code",
      "source": [
        "solution = sudoku_solve(sudoku_string)\n",
        "solution.print_filled_sudoku()"
      ],
      "metadata": {
        "colab": {
          "base_uri": "https://localhost:8080/"
        },
        "id": "yzhnoACMWohR",
        "outputId": "77b19165-f457-4348-b8bc-91c42cf91bab"
      },
      "execution_count": 33,
      "outputs": [
        {
          "output_type": "stream",
          "name": "stdout",
          "text": [
            "4 3 5 2 6 9 7 8 1\n",
            "6 8 2 5 7 1 4 9 3\n",
            "1 9 7 8 3 4 5 6 2\n",
            "8 2 6 1 9 5 3 4 7\n",
            "3 7 4 6 8 2 9 1 5\n",
            "9 5 1 7 4 3 6 2 8\n",
            "5 1 9 3 2 6 8 7 4\n",
            "2 4 8 9 5 7 1 3 6\n",
            "7 6 3 4 1 8 2 5 9\n"
          ]
        }
      ]
    }
  ]
}